{
 "cells": [
  {
   "cell_type": "code",
   "execution_count": 37,
   "id": "616b0286",
   "metadata": {},
   "outputs": [],
   "source": [
    "import torch\n",
    "from resnet9 import ResNet9\n",
    "from opacus import PrivacyEngine\n",
    "from torchvision.datasets import CIFAR10\n",
    "from torchvision.transforms import Compose, Normalize, ToTensor\n",
    "from torch.utils.data import DataLoader"
   ]
  },
  {
   "cell_type": "code",
   "execution_count": 35,
   "id": "d6b1a3fb",
   "metadata": {},
   "outputs": [],
   "source": [
    "def get_cifar_dataloader(bs_train=256, bs_val=256):\n",
    "    cifar10_mean = (0.4914, 0.4822, 0.4465)\n",
    "    cifar10_std = (0.2471, 0.2435, 0.2616)\n",
    "\n",
    "    train_ds = CIFAR10(\n",
    "        \"./data\",\n",
    "        train=True,\n",
    "        download=True,\n",
    "        transform=Compose([ToTensor(), Normalize(cifar10_mean, cifar10_std)]),\n",
    "    )\n",
    "    val_ds = CIFAR10(\n",
    "        \"./data\",\n",
    "        train=False,\n",
    "        transform=Compose([ToTensor(), Normalize(cifar10_mean, cifar10_std)]),\n",
    "    )\n",
    "\n",
    "    train_loader = DataLoader(\n",
    "        train_ds,\n",
    "        batch_size=bs_train,\n",
    "        shuffle=True,\n",
    "        num_workers=8,\n",
    "        pin_memory=True,\n",
    "        prefetch_factor=10,\n",
    "    )\n",
    "\n",
    "    val_loader = DataLoader(\n",
    "        val_ds,\n",
    "        batch_size=bs_val,\n",
    "        shuffle=False,\n",
    "        num_workers=8,\n",
    "        pin_memory=True,\n",
    "        prefetch_factor=10,\n",
    "    )\n",
    "    return train_loader, val_loader"
   ]
  },
  {
   "cell_type": "code",
   "execution_count": 38,
   "id": "00674f95",
   "metadata": {
    "scrolled": false
   },
   "outputs": [
    {
     "name": "stdout",
     "output_type": "stream",
     "text": [
      "Parameters used for training\n",
      "act_func: <class 'torch.nn.modules.activation.Mish'>\n",
      "batch_size: 1024\n",
      "dataset: cifar\n",
      "device: cuda\n",
      "epochs: 50\n",
      "final_epsilon: 2.8947377504325553\n",
      "grad_norm: 1.5\n",
      "group_norm: False\n",
      "image_size: None\n",
      "in_channels: 3\n",
      "learning_rate: 0.001\n",
      "log_interval: 20\n",
      "max_batch_size: 128\n",
      "model_arch: resnet9\n",
      "noise_mult: None\n",
      "norm_layer: group\n",
      "num_classes: 10\n",
      "num_groups: (32, 32, 32, 32)\n",
      "privacy: True\n",
      "scale_norm: True\n",
      "secure_rng: False\n",
      "target_delta: 1e-05\n",
      "target_epsilon: 3\n",
      "Files already downloaded and verified\n"
     ]
    },
    {
     "data": {
      "text/plain": [
       "<All keys matched successfully>"
      ]
     },
     "execution_count": 38,
     "metadata": {},
     "output_type": "execute_result"
    }
   ],
   "source": [
    "file_path = \"./models/cifar10_resnet9_50_39.pth.tar\"\n",
    "\n",
    "checkpoint = torch.load(file_path)\n",
    "print(\"Parameters used for training\")\n",
    "for key in checkpoint:\n",
    "    if key not in [\"state_dict\", \"optimizer\"]:\n",
    "        print(f\"{key}: {checkpoint[key]}\")\n",
    "\n",
    "seed = 34\n",
    "\n",
    "torch.backends.cudnn.deterministic = True\n",
    "torch.manual_seed(seed)\n",
    "torch.cuda.manual_seed_all(seed)\n",
    "\n",
    "device = torch.device('cuda' if torch.cuda.is_available() else 'cpu')\n",
    "\n",
    "train_loader, val_loader = get_cifar_dataloader(bs_train=64, bs_val=64)\n",
    "\n",
    "model = ResNet9(\n",
    "    3,\n",
    "    10,\n",
    "    torch.nn.Mish,\n",
    "    checkpoint[\"scale_norm\"],\n",
    "    checkpoint[\"norm_layer\"],\n",
    "    checkpoint[\"num_groups\"]\n",
    ").to(device)\n",
    "\n",
    "criterion = torch.nn.CrossEntropyLoss()\n",
    "optimizer = torch.optim.NAdam(model.parameters(), lr=checkpoint[\"learning_rate\"])\n",
    "\n",
    "if checkpoint[\"privacy\"]:\n",
    "    privacy_engine = PrivacyEngine()\n",
    "    model, optimizer, train_loader = privacy_engine.make_private_with_epsilon(\n",
    "        module=model,\n",
    "        optimizer=optimizer,\n",
    "        data_loader=train_loader,\n",
    "        target_epsilon=checkpoint[\"target_epsilon\"],\n",
    "        target_delta=checkpoint[\"target_delta\"],\n",
    "        epochs=checkpoint[\"epochs\"],\n",
    "        max_grad_norm=checkpoint[\"grad_norm\"],\n",
    "        noise_generator=torch.Generator(device=device).manual_seed(seed)\n",
    "    )\n",
    "\n",
    "model.load_state_dict(checkpoint[\"state_dict\"])\n"
   ]
  },
  {
   "cell_type": "code",
   "execution_count": 39,
   "id": "7e5bcb21",
   "metadata": {},
   "outputs": [
    {
     "name": "stdout",
     "output_type": "stream",
     "text": [
      "\n",
      "Test set: Average loss: 1.3046, Accuracy: 6547/10000 (65.47%)\n"
     ]
    }
   ],
   "source": [
    "model.eval()\n",
    "test_loss = 0\n",
    "correct = 0\n",
    "with torch.no_grad():\n",
    "    for data, target in val_loader:\n",
    "        data, target = data.to(device), target.to(device)\n",
    "        output = model(data)\n",
    "        test_loss += torch.nn.CrossEntropyLoss(reduction=\"sum\")(\n",
    "            output, target\n",
    "        ).item()  # sum up batch loss\n",
    "        pred = output.argmax(\n",
    "            dim=1, keepdim=True\n",
    "        )  # get the index of the max log-probability\n",
    "        correct += pred.eq(target.view_as(pred)).sum().item()\n",
    "\n",
    "test_loss /= len(val_loader.dataset)\n",
    "\n",
    "print(\n",
    "    \"\\nTest set: Average loss: {:.4f}, Accuracy: {}/{} ({:.2f}%)\".format(\n",
    "        test_loss,\n",
    "        correct,\n",
    "        len(val_loader.dataset),\n",
    "        100.0 * correct / len(val_loader.dataset),\n",
    "    )\n",
    ")"
   ]
  },
  {
   "cell_type": "code",
   "execution_count": null,
   "id": "3debc0c3",
   "metadata": {},
   "outputs": [],
   "source": []
  }
 ],
 "metadata": {
  "kernelspec": {
   "display_name": "Python 3 (ipykernel)",
   "language": "python",
   "name": "python3"
  },
  "language_info": {
   "codemirror_mode": {
    "name": "ipython",
    "version": 3
   },
   "file_extension": ".py",
   "mimetype": "text/x-python",
   "name": "python",
   "nbconvert_exporter": "python",
   "pygments_lexer": "ipython3",
   "version": "3.9.7"
  }
 },
 "nbformat": 4,
 "nbformat_minor": 5
}