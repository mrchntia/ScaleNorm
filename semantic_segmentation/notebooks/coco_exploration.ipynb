{
 "cells": [
  {
   "cell_type": "code",
   "execution_count": null,
   "id": "fcfb9044",
   "metadata": {},
   "outputs": [],
   "source": [
    "! wget -P ../../coco/data/ http://images.cocodataset.org/zips/train2017.zip\n",
    "! wget -P ../../coco/data/ http://images.cocodataset.org/zips/val2017.zip\n",
    "! wget -P ../../coco/data/ http://images.cocodataset.org/annotations/annotations_trainval2017.zip"
   ]
  },
  {
   "cell_type": "code",
   "execution_count": null,
   "id": "9552646b",
   "metadata": {},
   "outputs": [],
   "source": [
    "! unzip -q ../../coco/data/train2017.zip -d ../../coco/data/\n",
    "! unzip -q ../../coco/data/val2017.zip -d ../../coco/data/\n",
    "! unzip -q ../../coco/data/annotations_trainval2017.zip -d ../../coco/data/"
   ]
  },
  {
   "cell_type": "code",
   "execution_count": null,
   "id": "96a8afee",
   "metadata": {},
   "outputs": [],
   "source": [
    "! rm ../../coco/data/*.zip"
   ]
  },
  {
   "cell_type": "code",
   "execution_count": null,
   "id": "5a151c76",
   "metadata": {},
   "outputs": [],
   "source": [
    "import torchvision.datasets as dset\n",
    "from torchvision import transforms\n",
    "import torch\n",
    "\n",
    "path2data=\"./data/train2017\"\n",
    "path2json=\"./data/annotations/instances_train2017.json\"\n",
    "\n",
    "train = dset.CocoDetection(root = path2data,\n",
    "                        annFile = path2json,\n",
    "                        transform=transforms.ToTensor())\n",
    "train_loader = torch.utils.data.DataLoader(train, 32, shuffle=True)"
   ]
  },
  {
   "cell_type": "code",
   "execution_count": null,
   "id": "09d273d2",
   "metadata": {},
   "outputs": [],
   "source": [
    "for data, anno in train_loader:\n",
    "  print(anno)"
   ]
  },
  {
   "cell_type": "code",
   "execution_count": null,
   "id": "5109d231",
   "metadata": {},
   "outputs": [],
   "source": [
    "from pycocotools.coco import COCO\n",
    "\n",
    "coco = COCO(path2json)\n",
    "img_dir = path2data\n",
    "image_id = 74\n",
    "\n",
    "img = coco.imgs[image_id]"
   ]
  },
  {
   "cell_type": "code",
   "execution_count": null,
   "id": "d4886e9d",
   "metadata": {},
   "outputs": [],
   "source": [
    "from PIL import Image\n",
    "import numpy as np\n",
    "from matplotlib import pyplot as plt\n",
    "import os\n",
    "image_id = 74\n",
    "\n",
    "img = coco.imgs[image_id]\n",
    "image = np.array(Image.open(os.path.join(img_dir, img['file_name'])))\n",
    "plt.imshow(image, interpolation='nearest')\n",
    "plt.show()"
   ]
  },
  {
   "cell_type": "code",
   "execution_count": null,
   "id": "7803210f",
   "metadata": {},
   "outputs": [],
   "source": [
    "plt.imshow(image)\n",
    "cat_ids = coco.getCatIds()\n",
    "anns_ids = coco.getAnnIds(imgIds=img['id'], catIds=cat_ids, iscrowd=None)\n",
    "anns = coco.loadAnns(anns_ids)\n",
    "coco.showAnns(anns)"
   ]
  },
  {
   "cell_type": "code",
   "execution_count": null,
   "id": "ad55dfd9",
   "metadata": {},
   "outputs": [],
   "source": [
    "mask = coco.annToMask(anns[0])*anns[0][\"category_id\"]\n",
    "\n",
    "for i in range(1,len(anns)):\n",
    "    print(anns[i][\"category_id\"])\n",
    "    mask += coco.annToMask(anns[i])*anns[i][\"category_id\"]\n",
    "\n",
    "plt.imshow(mask)\n",
    "print(mask[300])"
   ]
  },
  {
   "cell_type": "code",
   "execution_count": null,
   "id": "244ed264",
   "metadata": {},
   "outputs": [],
   "source": [
    "data = torch.randn(400,1,32,32)\n",
    "target = torch.randn(400,1,32,32)\n",
    "\n",
    "model = MoNet(groups=32, scale_norm=True, norm=\"group\")\n",
    "\n",
    "criterion = torch.nn.MSELoss()\n",
    "optimizer = torch.optim.NAdam(model.parameters(), lr=1e-3)\n",
    "\n",
    "for t in range(4):\n",
    "    y_pred = model(data)\n",
    "\n",
    "    loss = criterion(y_pred, target)\n",
    "    print(t, loss.item())\n",
    "\n",
    "    optimizer.zero_grad()\n",
    "    loss.backward()\n",
    "    optimizer.step()\n",
    "\n",
    "model(torch.randn(1,1,32,32)).size()"
   ]
  }
 ],
 "metadata": {
  "kernelspec": {
   "display_name": "Python 3 (ipykernel)",
   "language": "python",
   "name": "python3"
  },
  "language_info": {
   "codemirror_mode": {
    "name": "ipython",
    "version": 3
   },
   "file_extension": ".py",
   "mimetype": "text/x-python",
   "name": "python",
   "nbconvert_exporter": "python",
   "pygments_lexer": "ipython3",
   "version": "3.9.7"
  }
 },
 "nbformat": 4,
 "nbformat_minor": 5
}
